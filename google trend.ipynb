{
 "cells": [
  {
   "cell_type": "markdown",
   "id": "_knUIIa96IAl",
   "metadata": {
    "id": "_knUIIa96IAl"
   },
   "source": [
    "# 導入相關套件"
   ]
  },
  {
   "cell_type": "code",
   "execution_count": 1,
   "id": "M1PVtsvmSDy2",
   "metadata": {
    "colab": {
     "base_uri": "https://localhost:8080/"
    },
    "executionInfo": {
     "elapsed": 3261,
     "status": "ok",
     "timestamp": 1748167587043,
     "user": {
      "displayName": "楊哲睿",
      "userId": "12349765676182139435"
     },
     "user_tz": -480
    },
    "id": "M1PVtsvmSDy2",
    "outputId": "d622f1cf-5aef-4e89-dac4-e7a94f0319e3"
   },
   "outputs": [
    {
     "name": "stdout",
     "output_type": "stream",
     "text": [
      "Requirement already satisfied: pytrends in /Library/Frameworks/Python.framework/Versions/3.10/lib/python3.10/site-packages (4.9.2)\n",
      "Requirement already satisfied: requests>=2.0 in /Library/Frameworks/Python.framework/Versions/3.10/lib/python3.10/site-packages (from pytrends) (2.32.3)\n",
      "Requirement already satisfied: pandas>=0.25 in /Library/Frameworks/Python.framework/Versions/3.10/lib/python3.10/site-packages (from pytrends) (1.5.3)\n",
      "Requirement already satisfied: lxml in /Library/Frameworks/Python.framework/Versions/3.10/lib/python3.10/site-packages (from pytrends) (5.4.0)\n",
      "Requirement already satisfied: numpy>=1.21.0 in /Library/Frameworks/Python.framework/Versions/3.10/lib/python3.10/site-packages (from pandas>=0.25->pytrends) (1.24.4)\n",
      "Requirement already satisfied: python-dateutil>=2.8.1 in /Users/yangzherui/Library/Python/3.10/lib/python/site-packages (from pandas>=0.25->pytrends) (2.9.0.post0)\n",
      "Requirement already satisfied: pytz>=2020.1 in /Library/Frameworks/Python.framework/Versions/3.10/lib/python3.10/site-packages (from pandas>=0.25->pytrends) (2025.2)\n",
      "Requirement already satisfied: six>=1.5 in /Users/yangzherui/Library/Python/3.10/lib/python/site-packages (from python-dateutil>=2.8.1->pandas>=0.25->pytrends) (1.17.0)\n",
      "Requirement already satisfied: idna<4,>=2.5 in /Library/Frameworks/Python.framework/Versions/3.10/lib/python3.10/site-packages (from requests>=2.0->pytrends) (3.10)\n",
      "Requirement already satisfied: urllib3<3,>=1.21.1 in /Library/Frameworks/Python.framework/Versions/3.10/lib/python3.10/site-packages (from requests>=2.0->pytrends) (2.4.0)\n",
      "Requirement already satisfied: certifi>=2017.4.17 in /Library/Frameworks/Python.framework/Versions/3.10/lib/python3.10/site-packages (from requests>=2.0->pytrends) (2025.4.26)\n",
      "Requirement already satisfied: charset-normalizer<4,>=2 in /Library/Frameworks/Python.framework/Versions/3.10/lib/python3.10/site-packages (from requests>=2.0->pytrends) (3.4.2)\n",
      "\u001b[33mWARNING: You are using pip version 21.2.3; however, version 25.1.1 is available.\n",
      "You should consider upgrading via the '/usr/local/bin/python3 -m pip install --upgrade pip' command.\u001b[0m\n",
      "Note: you may need to restart the kernel to use updated packages.\n"
     ]
    }
   ],
   "source": [
    "pip install pytrends"
   ]
  },
  {
   "cell_type": "code",
   "execution_count": 2,
   "id": "4fbb0cdf",
   "metadata": {
    "executionInfo": {
     "elapsed": 4750,
     "status": "ok",
     "timestamp": 1748167591790,
     "user": {
      "displayName": "楊哲睿",
      "userId": "12349765676182139435"
     },
     "user_tz": -480
    },
    "id": "4fbb0cdf"
   },
   "outputs": [],
   "source": [
    "import pandas as pd\n",
    "import numpy as np\n",
    "import matplotlib.pyplot as plt\n",
    "import seaborn as sns\n",
    "from tqdm import tqdm\n",
    "from pytrends.request import TrendReq\n",
    "from datetime import datetime, timedelta\n",
    "from tqdm import tqdm\n",
    "import time"
   ]
  },
  {
   "cell_type": "markdown",
   "id": "HmQJ2mTddB6Q",
   "metadata": {
    "id": "HmQJ2mTddB6Q"
   },
   "source": [
    "# 搜尋目標股池"
   ]
  },
  {
   "cell_type": "code",
   "execution_count": 3,
   "id": "sl0cw6wKXmHF",
   "metadata": {
    "executionInfo": {
     "elapsed": 2611,
     "status": "ok",
     "timestamp": 1748167673553,
     "user": {
      "displayName": "楊哲睿",
      "userId": "12349765676182139435"
     },
     "user_tz": -480
    },
    "id": "sl0cw6wKXmHF"
   },
   "outputs": [],
   "source": [
    "###最近一次0050持股\n",
    "pool=pd.read_excel('五月二十三日台灣五十倉位.xlsx')\n",
    "pool['商品代碼']=pool['商品代碼'].astype(str)\n",
    "true_columns =pool['商品代碼'].values.tolist()"
   ]
  },
  {
   "cell_type": "markdown",
   "id": "EQMLNRsdyhyA",
   "metadata": {
    "id": "EQMLNRsdyhyA"
   },
   "source": [
    "# 辨認資料開始日"
   ]
  },
  {
   "cell_type": "code",
   "execution_count": 4,
   "id": "6babd9ad",
   "metadata": {},
   "outputs": [],
   "source": [
    "bench_mark=pd.read_pickle('基準.pkl')"
   ]
  },
  {
   "cell_type": "code",
   "execution_count": 5,
   "id": "wEV9F6x6yoib",
   "metadata": {
    "executionInfo": {
     "elapsed": 5290,
     "status": "ok",
     "timestamp": 1748167678847,
     "user": {
      "displayName": "楊哲睿",
      "userId": "12349765676182139435"
     },
     "user_tz": -480
    },
    "id": "wEV9F6x6yoib"
   },
   "outputs": [],
   "source": [
    "###最早開始日為2004-01-01\n",
    "df = bench_mark[true_columns]\n",
    "start_dates = df.apply(lambda col: col.first_valid_index())\n",
    "last_date = bench_mark.index.max()\n",
    "end_dates = pd.Series(last_date, index=df.columns)\n",
    "date_ranges = pd.DataFrame({'start_date': start_dates, 'end_date': end_dates})\n",
    "date_ranges.index.name = 'keyword'\n",
    "date_ranges.reset_index(inplace=True)"
   ]
  },
  {
   "cell_type": "markdown",
   "id": "SaFdUYcu3KDk",
   "metadata": {
    "id": "SaFdUYcu3KDk"
   },
   "source": [
    "# 增加搜尋成功率"
   ]
  },
  {
   "cell_type": "code",
   "execution_count": 6,
   "id": "5MLxz24D1mu3",
   "metadata": {
    "executionInfo": {
     "elapsed": 413,
     "status": "ok",
     "timestamp": 1748167679285,
     "user": {
      "displayName": "楊哲睿",
      "userId": "12349765676182139435"
     },
     "user_tz": -480
    },
    "id": "5MLxz24D1mu3"
   },
   "outputs": [],
   "source": [
    "industry_data=pd.read_excel('TSE_industry.xlsx')"
   ]
  },
  {
   "cell_type": "code",
   "execution_count": 7,
   "id": "3x074DKz1qP2",
   "metadata": {
    "executionInfo": {
     "elapsed": 1,
     "status": "ok",
     "timestamp": 1748167679289,
     "user": {
      "displayName": "楊哲睿",
      "userId": "12349765676182139435"
     },
     "user_tz": -480
    },
    "id": "3x074DKz1qP2"
   },
   "outputs": [],
   "source": [
    "# 1. 確保證券代碼是字串\n",
    "#date_ranges['keyword'] = date_ranges['keyword'].astype(str)\n",
    "industry_data['證券代碼'] = industry_data['證券代碼'].astype(str)\n",
    "merged_df = date_ranges.merge(industry_data[['證券代碼', '公司名稱', 'TSE新產業名']],\n",
    "                           left_on='keyword',\n",
    "                           right_on='證券代碼',\n",
    "                           how='left')\n",
    "merged_df = merged_df[['keyword', '公司名稱', 'TSE新產業名', 'start_date', 'end_date']]\n",
    "merged_df['symbol']= merged_df['keyword']\n",
    "merged_df['keyword'] = merged_df.apply(\n",
    "    lambda row: f\"{row['公司名稱']} ({row['keyword']})\" if pd.notnull(row['公司名稱']) else row['keyword'],\n",
    "    axis=1)\n",
    "merged_df = merged_df[['keyword', '公司名稱','symbol', 'TSE新產業名', 'start_date', 'end_date']]"
   ]
  },
  {
   "cell_type": "markdown",
   "id": "FRTAoiMO05Hk",
   "metadata": {
    "id": "FRTAoiMO05Hk"
   },
   "source": [
    "# 工作排程"
   ]
  },
  {
   "cell_type": "code",
   "execution_count": 8,
   "id": "DdtmKkwW1ORK",
   "metadata": {
    "executionInfo": {
     "elapsed": 2,
     "status": "ok",
     "timestamp": 1748167679293,
     "user": {
      "displayName": "楊哲睿",
      "userId": "12349765676182139435"
     },
     "user_tz": -480
    },
    "id": "DdtmKkwW1ORK"
   },
   "outputs": [],
   "source": [
    "top_cap_list=merged_df['keyword'].values.tolist()"
   ]
  },
  {
   "cell_type": "code",
   "execution_count": 9,
   "id": "BI3KyHhZ3F6Y",
   "metadata": {
    "executionInfo": {
     "elapsed": 2,
     "status": "ok",
     "timestamp": 1748167679296,
     "user": {
      "displayName": "楊哲睿",
      "userId": "12349765676182139435"
     },
     "user_tz": -480
    },
    "id": "BI3KyHhZ3F6Y"
   },
   "outputs": [],
   "source": [
    "work_list=merged_df.set_index('keyword')"
   ]
  },
  {
   "cell_type": "code",
   "execution_count": 10,
   "id": "v7C0Vgh208x5",
   "metadata": {
    "colab": {
     "base_uri": "https://localhost:8080/"
    },
    "executionInfo": {
     "elapsed": 6,
     "status": "ok",
     "timestamp": 1748167679303,
     "user": {
      "displayName": "楊哲睿",
      "userId": "12349765676182139435"
     },
     "user_tz": -480
    },
    "id": "v7C0Vgh208x5",
    "outputId": "45ba34f4-b3b7-421e-d766-4c488d48d597"
   },
   "outputs": [
    {
     "name": "stdout",
     "output_type": "stream",
     "text": [
      "總共有 50 檔股票曾進入目標股池\n",
      "第 1 組，共 5\n",
      "第 2 組，共 5\n",
      "第 3 組，共 5\n",
      "第 4 組，共 5\n",
      "第 5 組，共 5\n",
      "第 6 組，共 5\n",
      "第 7 組，共 5\n",
      "第 8 組，共 5\n",
      "第 9 組，共 5\n",
      "第 10 組，共 5\n"
     ]
    }
   ],
   "source": [
    "total_symbols = len(top_cap_list)\n",
    "print(f\"總共有 {total_symbols} 檔股票曾進入目標股池\")\n",
    "from math import ceil\n",
    "chunk_size = ceil(total_symbols / 10)\n",
    "top_cap_chunks = [top_cap_list[i:i+chunk_size] for i in range(0, total_symbols, chunk_size)]\n",
    "for idx, chunk in enumerate(top_cap_chunks):\n",
    "    print(f\"第 {idx+1} 組，共 {len(chunk)}\")"
   ]
  },
  {
   "cell_type": "code",
   "execution_count": 11,
   "id": "GMbEB19r32Q9",
   "metadata": {
    "colab": {
     "base_uri": "https://localhost:8080/",
     "height": 1000
    },
    "executionInfo": {
     "elapsed": 67,
     "status": "ok",
     "timestamp": 1748167679372,
     "user": {
      "displayName": "楊哲睿",
      "userId": "12349765676182139435"
     },
     "user_tz": -480
    },
    "id": "GMbEB19r32Q9",
    "outputId": "5c3d0e82-a2de-419a-af90-235498cd3636"
   },
   "outputs": [
    {
     "data": {
      "text/html": [
       "<div>\n",
       "<style scoped>\n",
       "    .dataframe tbody tr th:only-of-type {\n",
       "        vertical-align: middle;\n",
       "    }\n",
       "\n",
       "    .dataframe tbody tr th {\n",
       "        vertical-align: top;\n",
       "    }\n",
       "\n",
       "    .dataframe thead th {\n",
       "        text-align: right;\n",
       "    }\n",
       "</style>\n",
       "<table border=\"1\" class=\"dataframe\">\n",
       "  <thead>\n",
       "    <tr style=\"text-align: right;\">\n",
       "      <th></th>\n",
       "      <th>公司名稱</th>\n",
       "      <th>symbol</th>\n",
       "      <th>TSE新產業名</th>\n",
       "      <th>start_date</th>\n",
       "      <th>end_date</th>\n",
       "    </tr>\n",
       "    <tr>\n",
       "      <th>keyword</th>\n",
       "      <th></th>\n",
       "      <th></th>\n",
       "      <th></th>\n",
       "      <th></th>\n",
       "      <th></th>\n",
       "    </tr>\n",
       "  </thead>\n",
       "  <tbody>\n",
       "    <tr>\n",
       "      <th>台積電 (2330)</th>\n",
       "      <td>台積電</td>\n",
       "      <td>2330</td>\n",
       "      <td>半導體</td>\n",
       "      <td>2006-01-02</td>\n",
       "      <td>2025-04-28</td>\n",
       "    </tr>\n",
       "    <tr>\n",
       "      <th>聯發科 (2454)</th>\n",
       "      <td>聯發科</td>\n",
       "      <td>2454</td>\n",
       "      <td>半導體</td>\n",
       "      <td>2006-01-02</td>\n",
       "      <td>2025-04-28</td>\n",
       "    </tr>\n",
       "    <tr>\n",
       "      <th>鴻海 (2317)</th>\n",
       "      <td>鴻海</td>\n",
       "      <td>2317</td>\n",
       "      <td>其他電子業</td>\n",
       "      <td>2005-01-03</td>\n",
       "      <td>2025-04-28</td>\n",
       "    </tr>\n",
       "    <tr>\n",
       "      <th>台達電 (2308)</th>\n",
       "      <td>台達電</td>\n",
       "      <td>2308</td>\n",
       "      <td>電子零組件</td>\n",
       "      <td>2005-01-03</td>\n",
       "      <td>2025-04-28</td>\n",
       "    </tr>\n",
       "    <tr>\n",
       "      <th>廣達 (2382)</th>\n",
       "      <td>廣達</td>\n",
       "      <td>2382</td>\n",
       "      <td>電腦及週邊</td>\n",
       "      <td>2006-01-02</td>\n",
       "      <td>2025-04-28</td>\n",
       "    </tr>\n",
       "    <tr>\n",
       "      <th>中信金 (2891)</th>\n",
       "      <td>中信金</td>\n",
       "      <td>2891</td>\n",
       "      <td>金融業</td>\n",
       "      <td>2005-01-03</td>\n",
       "      <td>2025-04-28</td>\n",
       "    </tr>\n",
       "    <tr>\n",
       "      <th>富邦金 (2881)</th>\n",
       "      <td>富邦金</td>\n",
       "      <td>2881</td>\n",
       "      <td>金融業</td>\n",
       "      <td>2005-01-03</td>\n",
       "      <td>2025-04-28</td>\n",
       "    </tr>\n",
       "    <tr>\n",
       "      <th>國泰金 (2882)</th>\n",
       "      <td>國泰金</td>\n",
       "      <td>2882</td>\n",
       "      <td>金融業</td>\n",
       "      <td>2005-01-03</td>\n",
       "      <td>2025-04-28</td>\n",
       "    </tr>\n",
       "    <tr>\n",
       "      <th>聯電 (2303)</th>\n",
       "      <td>聯電</td>\n",
       "      <td>2303</td>\n",
       "      <td>半導體</td>\n",
       "      <td>2005-01-03</td>\n",
       "      <td>2025-04-28</td>\n",
       "    </tr>\n",
       "    <tr>\n",
       "      <th>中華電 (2412)</th>\n",
       "      <td>中華電</td>\n",
       "      <td>2412</td>\n",
       "      <td>通信網路業</td>\n",
       "      <td>2006-01-02</td>\n",
       "      <td>2025-04-28</td>\n",
       "    </tr>\n",
       "    <tr>\n",
       "      <th>兆豐金 (2886)</th>\n",
       "      <td>兆豐金</td>\n",
       "      <td>2886</td>\n",
       "      <td>金融業</td>\n",
       "      <td>2005-01-03</td>\n",
       "      <td>2025-04-28</td>\n",
       "    </tr>\n",
       "    <tr>\n",
       "      <th>日月光投控 (3711)</th>\n",
       "      <td>日月光投控</td>\n",
       "      <td>3711</td>\n",
       "      <td>半導體</td>\n",
       "      <td>2019-01-02</td>\n",
       "      <td>2025-04-28</td>\n",
       "    </tr>\n",
       "    <tr>\n",
       "      <th>玉山金 (2884)</th>\n",
       "      <td>玉山金</td>\n",
       "      <td>2884</td>\n",
       "      <td>金融業</td>\n",
       "      <td>2005-01-03</td>\n",
       "      <td>2025-04-28</td>\n",
       "    </tr>\n",
       "    <tr>\n",
       "      <th>華碩 (2357)</th>\n",
       "      <td>華碩</td>\n",
       "      <td>2357</td>\n",
       "      <td>電腦及週邊</td>\n",
       "      <td>2006-01-02</td>\n",
       "      <td>2025-04-28</td>\n",
       "    </tr>\n",
       "    <tr>\n",
       "      <th>統一 (1216)</th>\n",
       "      <td>統一</td>\n",
       "      <td>1216</td>\n",
       "      <td>食品工業</td>\n",
       "      <td>2005-01-03</td>\n",
       "      <td>2025-04-28</td>\n",
       "    </tr>\n",
       "    <tr>\n",
       "      <th>元大金 (2885)</th>\n",
       "      <td>元大金</td>\n",
       "      <td>2885</td>\n",
       "      <td>金融業</td>\n",
       "      <td>2005-01-03</td>\n",
       "      <td>2025-04-28</td>\n",
       "    </tr>\n",
       "    <tr>\n",
       "      <th>智邦 (2345)</th>\n",
       "      <td>智邦</td>\n",
       "      <td>2345</td>\n",
       "      <td>通信網路業</td>\n",
       "      <td>2006-01-02</td>\n",
       "      <td>2025-04-28</td>\n",
       "    </tr>\n",
       "    <tr>\n",
       "      <th>緯創 (3231)</th>\n",
       "      <td>緯創</td>\n",
       "      <td>3231</td>\n",
       "      <td>電腦及週邊</td>\n",
       "      <td>2011-01-03</td>\n",
       "      <td>2025-04-28</td>\n",
       "    </tr>\n",
       "    <tr>\n",
       "      <th>聯詠 (3034)</th>\n",
       "      <td>聯詠</td>\n",
       "      <td>3034</td>\n",
       "      <td>半導體</td>\n",
       "      <td>2006-01-02</td>\n",
       "      <td>2025-04-28</td>\n",
       "    </tr>\n",
       "    <tr>\n",
       "      <th>第一金 (2892)</th>\n",
       "      <td>第一金</td>\n",
       "      <td>2892</td>\n",
       "      <td>金融業</td>\n",
       "      <td>2005-01-03</td>\n",
       "      <td>2025-04-28</td>\n",
       "    </tr>\n",
       "    <tr>\n",
       "      <th>長榮 (2603)</th>\n",
       "      <td>長榮</td>\n",
       "      <td>2603</td>\n",
       "      <td>航運業</td>\n",
       "      <td>2005-01-03</td>\n",
       "      <td>2025-04-28</td>\n",
       "    </tr>\n",
       "    <tr>\n",
       "      <th>凱基金 (2883)</th>\n",
       "      <td>凱基金</td>\n",
       "      <td>2883</td>\n",
       "      <td>金融業</td>\n",
       "      <td>2005-01-03</td>\n",
       "      <td>2025-04-28</td>\n",
       "    </tr>\n",
       "    <tr>\n",
       "      <th>永豐金 (2890)</th>\n",
       "      <td>永豐金</td>\n",
       "      <td>2890</td>\n",
       "      <td>金融業</td>\n",
       "      <td>2005-01-03</td>\n",
       "      <td>2025-04-28</td>\n",
       "    </tr>\n",
       "    <tr>\n",
       "      <th>合庫金 (5880)</th>\n",
       "      <td>合庫金</td>\n",
       "      <td>5880</td>\n",
       "      <td>金融業</td>\n",
       "      <td>2020-01-02</td>\n",
       "      <td>2025-04-28</td>\n",
       "    </tr>\n",
       "    <tr>\n",
       "      <th>瑞昱 (2379)</th>\n",
       "      <td>瑞昱</td>\n",
       "      <td>2379</td>\n",
       "      <td>半導體</td>\n",
       "      <td>2006-01-02</td>\n",
       "      <td>2025-04-28</td>\n",
       "    </tr>\n",
       "    <tr>\n",
       "      <th>華南金 (2880)</th>\n",
       "      <td>華南金</td>\n",
       "      <td>2880</td>\n",
       "      <td>金融業</td>\n",
       "      <td>2005-01-03</td>\n",
       "      <td>2025-04-28</td>\n",
       "    </tr>\n",
       "    <tr>\n",
       "      <th>緯穎 (6669)</th>\n",
       "      <td>緯穎</td>\n",
       "      <td>6669</td>\n",
       "      <td>電腦及週邊</td>\n",
       "      <td>2020-01-02</td>\n",
       "      <td>2025-04-28</td>\n",
       "    </tr>\n",
       "    <tr>\n",
       "      <th>中鋼 (2002)</th>\n",
       "      <td>中鋼</td>\n",
       "      <td>2002</td>\n",
       "      <td>鋼鐵工業</td>\n",
       "      <td>2005-01-03</td>\n",
       "      <td>2025-04-28</td>\n",
       "    </tr>\n",
       "    <tr>\n",
       "      <th>國巨 (2327)</th>\n",
       "      <td>國巨</td>\n",
       "      <td>2327</td>\n",
       "      <td>電子零組件</td>\n",
       "      <td>2006-01-02</td>\n",
       "      <td>2025-04-28</td>\n",
       "    </tr>\n",
       "    <tr>\n",
       "      <th>世芯-KY (3661)</th>\n",
       "      <td>世芯-KY</td>\n",
       "      <td>3661</td>\n",
       "      <td>半導體</td>\n",
       "      <td>2019-01-02</td>\n",
       "      <td>2025-04-28</td>\n",
       "    </tr>\n",
       "    <tr>\n",
       "      <th>光寶科 (2301)</th>\n",
       "      <td>光寶科</td>\n",
       "      <td>2301</td>\n",
       "      <td>電腦及週邊</td>\n",
       "      <td>2005-01-03</td>\n",
       "      <td>2025-04-28</td>\n",
       "    </tr>\n",
       "    <tr>\n",
       "      <th>大立光 (3008)</th>\n",
       "      <td>大立光</td>\n",
       "      <td>3008</td>\n",
       "      <td>光電業</td>\n",
       "      <td>2006-01-02</td>\n",
       "      <td>2025-04-28</td>\n",
       "    </tr>\n",
       "    <tr>\n",
       "      <th>和泰車 (2207)</th>\n",
       "      <td>和泰車</td>\n",
       "      <td>2207</td>\n",
       "      <td>汽車工業</td>\n",
       "      <td>2005-01-03</td>\n",
       "      <td>2025-04-28</td>\n",
       "    </tr>\n",
       "    <tr>\n",
       "      <th>台新金 (2887)</th>\n",
       "      <td>台新金</td>\n",
       "      <td>2887</td>\n",
       "      <td>金融業</td>\n",
       "      <td>2005-01-03</td>\n",
       "      <td>2025-04-28</td>\n",
       "    </tr>\n",
       "    <tr>\n",
       "      <th>台泥 (1101)</th>\n",
       "      <td>台泥</td>\n",
       "      <td>1101</td>\n",
       "      <td>水泥工業</td>\n",
       "      <td>2005-01-03</td>\n",
       "      <td>2025-04-28</td>\n",
       "    </tr>\n",
       "    <tr>\n",
       "      <th>奇鋐 (3017)</th>\n",
       "      <td>奇鋐</td>\n",
       "      <td>3017</td>\n",
       "      <td>電腦及週邊</td>\n",
       "      <td>2006-01-02</td>\n",
       "      <td>2025-04-28</td>\n",
       "    </tr>\n",
       "    <tr>\n",
       "      <th>中租-KY (5871)</th>\n",
       "      <td>中租-KY</td>\n",
       "      <td>5871</td>\n",
       "      <td>其他</td>\n",
       "      <td>2020-01-02</td>\n",
       "      <td>2025-04-28</td>\n",
       "    </tr>\n",
       "    <tr>\n",
       "      <th>萬海 (2615)</th>\n",
       "      <td>萬海</td>\n",
       "      <td>2615</td>\n",
       "      <td>航運業</td>\n",
       "      <td>2005-01-03</td>\n",
       "      <td>2025-04-28</td>\n",
       "    </tr>\n",
       "    <tr>\n",
       "      <th>和碩 (4938)</th>\n",
       "      <td>和碩</td>\n",
       "      <td>4938</td>\n",
       "      <td>電腦及週邊</td>\n",
       "      <td>2022-12-28</td>\n",
       "      <td>2025-04-28</td>\n",
       "    </tr>\n",
       "    <tr>\n",
       "      <th>上海商銀 (5876)</th>\n",
       "      <td>上海商銀</td>\n",
       "      <td>5876</td>\n",
       "      <td>金融業</td>\n",
       "      <td>2020-01-02</td>\n",
       "      <td>2025-04-28</td>\n",
       "    </tr>\n",
       "    <tr>\n",
       "      <th>台灣大 (3045)</th>\n",
       "      <td>台灣大</td>\n",
       "      <td>3045</td>\n",
       "      <td>通信網路業</td>\n",
       "      <td>2006-01-02</td>\n",
       "      <td>2025-04-28</td>\n",
       "    </tr>\n",
       "    <tr>\n",
       "      <th>南亞 (1303)</th>\n",
       "      <td>南亞</td>\n",
       "      <td>1303</td>\n",
       "      <td>塑膠工業</td>\n",
       "      <td>2005-01-03</td>\n",
       "      <td>2025-04-28</td>\n",
       "    </tr>\n",
       "    <tr>\n",
       "      <th>遠傳 (4904)</th>\n",
       "      <td>遠傳</td>\n",
       "      <td>4904</td>\n",
       "      <td>通信網路業</td>\n",
       "      <td>2022-12-28</td>\n",
       "      <td>2025-04-28</td>\n",
       "    </tr>\n",
       "    <tr>\n",
       "      <th>研華 (2395)</th>\n",
       "      <td>研華</td>\n",
       "      <td>2395</td>\n",
       "      <td>電腦及週邊</td>\n",
       "      <td>2006-01-02</td>\n",
       "      <td>2025-04-28</td>\n",
       "    </tr>\n",
       "    <tr>\n",
       "      <th>陽明 (2609)</th>\n",
       "      <td>陽明</td>\n",
       "      <td>2609</td>\n",
       "      <td>航運業</td>\n",
       "      <td>2005-01-03</td>\n",
       "      <td>2025-04-28</td>\n",
       "    </tr>\n",
       "    <tr>\n",
       "      <th>統一超 (2912)</th>\n",
       "      <td>統一超</td>\n",
       "      <td>2912</td>\n",
       "      <td>貿易百貨</td>\n",
       "      <td>2006-01-02</td>\n",
       "      <td>2025-04-28</td>\n",
       "    </tr>\n",
       "    <tr>\n",
       "      <th>欣興 (3037)</th>\n",
       "      <td>欣興</td>\n",
       "      <td>3037</td>\n",
       "      <td>電子零組件</td>\n",
       "      <td>2006-01-02</td>\n",
       "      <td>2025-04-28</td>\n",
       "    </tr>\n",
       "    <tr>\n",
       "      <th>台塑 (1301)</th>\n",
       "      <td>台塑</td>\n",
       "      <td>1301</td>\n",
       "      <td>塑膠工業</td>\n",
       "      <td>2005-01-03</td>\n",
       "      <td>2025-04-28</td>\n",
       "    </tr>\n",
       "    <tr>\n",
       "      <th>藥華藥 (6446)</th>\n",
       "      <td>藥華藥</td>\n",
       "      <td>6446</td>\n",
       "      <td>生技醫療</td>\n",
       "      <td>2022-12-28</td>\n",
       "      <td>2025-04-28</td>\n",
       "    </tr>\n",
       "    <tr>\n",
       "      <th>台塑化 (6505)</th>\n",
       "      <td>台塑化</td>\n",
       "      <td>6505</td>\n",
       "      <td>油電燃氣業</td>\n",
       "      <td>2022-12-28</td>\n",
       "      <td>2025-04-28</td>\n",
       "    </tr>\n",
       "  </tbody>\n",
       "</table>\n",
       "</div>"
      ],
      "text/plain": [
       "               公司名稱 symbol TSE新產業名 start_date   end_date\n",
       "keyword                                                 \n",
       "台積電 (2330)      台積電   2330     半導體 2006-01-02 2025-04-28\n",
       "聯發科 (2454)      聯發科   2454     半導體 2006-01-02 2025-04-28\n",
       "鴻海 (2317)        鴻海   2317   其他電子業 2005-01-03 2025-04-28\n",
       "台達電 (2308)      台達電   2308   電子零組件 2005-01-03 2025-04-28\n",
       "廣達 (2382)        廣達   2382   電腦及週邊 2006-01-02 2025-04-28\n",
       "中信金 (2891)      中信金   2891     金融業 2005-01-03 2025-04-28\n",
       "富邦金 (2881)      富邦金   2881     金融業 2005-01-03 2025-04-28\n",
       "國泰金 (2882)      國泰金   2882     金融業 2005-01-03 2025-04-28\n",
       "聯電 (2303)        聯電   2303     半導體 2005-01-03 2025-04-28\n",
       "中華電 (2412)      中華電   2412   通信網路業 2006-01-02 2025-04-28\n",
       "兆豐金 (2886)      兆豐金   2886     金融業 2005-01-03 2025-04-28\n",
       "日月光投控 (3711)  日月光投控   3711     半導體 2019-01-02 2025-04-28\n",
       "玉山金 (2884)      玉山金   2884     金融業 2005-01-03 2025-04-28\n",
       "華碩 (2357)        華碩   2357   電腦及週邊 2006-01-02 2025-04-28\n",
       "統一 (1216)        統一   1216    食品工業 2005-01-03 2025-04-28\n",
       "元大金 (2885)      元大金   2885     金融業 2005-01-03 2025-04-28\n",
       "智邦 (2345)        智邦   2345   通信網路業 2006-01-02 2025-04-28\n",
       "緯創 (3231)        緯創   3231   電腦及週邊 2011-01-03 2025-04-28\n",
       "聯詠 (3034)        聯詠   3034     半導體 2006-01-02 2025-04-28\n",
       "第一金 (2892)      第一金   2892     金融業 2005-01-03 2025-04-28\n",
       "長榮 (2603)        長榮   2603     航運業 2005-01-03 2025-04-28\n",
       "凱基金 (2883)      凱基金   2883     金融業 2005-01-03 2025-04-28\n",
       "永豐金 (2890)      永豐金   2890     金融業 2005-01-03 2025-04-28\n",
       "合庫金 (5880)      合庫金   5880     金融業 2020-01-02 2025-04-28\n",
       "瑞昱 (2379)        瑞昱   2379     半導體 2006-01-02 2025-04-28\n",
       "華南金 (2880)      華南金   2880     金融業 2005-01-03 2025-04-28\n",
       "緯穎 (6669)        緯穎   6669   電腦及週邊 2020-01-02 2025-04-28\n",
       "中鋼 (2002)        中鋼   2002    鋼鐵工業 2005-01-03 2025-04-28\n",
       "國巨 (2327)        國巨   2327   電子零組件 2006-01-02 2025-04-28\n",
       "世芯-KY (3661)  世芯-KY   3661     半導體 2019-01-02 2025-04-28\n",
       "光寶科 (2301)      光寶科   2301   電腦及週邊 2005-01-03 2025-04-28\n",
       "大立光 (3008)      大立光   3008     光電業 2006-01-02 2025-04-28\n",
       "和泰車 (2207)      和泰車   2207    汽車工業 2005-01-03 2025-04-28\n",
       "台新金 (2887)      台新金   2887     金融業 2005-01-03 2025-04-28\n",
       "台泥 (1101)        台泥   1101    水泥工業 2005-01-03 2025-04-28\n",
       "奇鋐 (3017)        奇鋐   3017   電腦及週邊 2006-01-02 2025-04-28\n",
       "中租-KY (5871)  中租-KY   5871      其他 2020-01-02 2025-04-28\n",
       "萬海 (2615)        萬海   2615     航運業 2005-01-03 2025-04-28\n",
       "和碩 (4938)        和碩   4938   電腦及週邊 2022-12-28 2025-04-28\n",
       "上海商銀 (5876)    上海商銀   5876     金融業 2020-01-02 2025-04-28\n",
       "台灣大 (3045)      台灣大   3045   通信網路業 2006-01-02 2025-04-28\n",
       "南亞 (1303)        南亞   1303    塑膠工業 2005-01-03 2025-04-28\n",
       "遠傳 (4904)        遠傳   4904   通信網路業 2022-12-28 2025-04-28\n",
       "研華 (2395)        研華   2395   電腦及週邊 2006-01-02 2025-04-28\n",
       "陽明 (2609)        陽明   2609     航運業 2005-01-03 2025-04-28\n",
       "統一超 (2912)      統一超   2912    貿易百貨 2006-01-02 2025-04-28\n",
       "欣興 (3037)        欣興   3037   電子零組件 2006-01-02 2025-04-28\n",
       "台塑 (1301)        台塑   1301    塑膠工業 2005-01-03 2025-04-28\n",
       "藥華藥 (6446)      藥華藥   6446    生技醫療 2022-12-28 2025-04-28\n",
       "台塑化 (6505)      台塑化   6505   油電燃氣業 2022-12-28 2025-04-28"
      ]
     },
     "execution_count": 11,
     "metadata": {},
     "output_type": "execute_result"
    }
   ],
   "source": [
    "work_list"
   ]
  },
  {
   "cell_type": "markdown",
   "id": "b27f23e4",
   "metadata": {
    "id": "b27f23e4"
   },
   "source": [
    "# google trend 抓取資料"
   ]
  },
  {
   "cell_type": "code",
   "execution_count": null,
   "id": "22533c57",
   "metadata": {
    "executionInfo": {
     "elapsed": 19,
     "status": "ok",
     "timestamp": 1748167679390,
     "user": {
      "displayName": "楊哲睿",
      "userId": "12349765676182139435"
     },
     "user_tz": -480
    },
    "id": "22533c57"
   },
   "outputs": [],
   "source": [
    "# === 切分時間區段 ===\n",
    "def get_time_ranges(start, end, years=5):\n",
    "    start_dt = datetime.strptime(start, '%Y-%m-%d')\n",
    "    end_dt = datetime.strptime(end, '%Y-%m-%d')\n",
    "    ranges = []\n",
    "    current = start_dt\n",
    "    while current < end_dt:\n",
    "        next_date = min(current + timedelta(days=365 * years), end_dt)\n",
    "        ranges.append((current.strftime('%Y-%m-%d'), next_date.strftime('%Y-%m-%d')))\n",
    "        current = next_date\n",
    "    return ranges\n",
    "\n",
    "# === 抓取單一關鍵字 ===\n",
    "def fetch_trend(keyword, start_date, end_date):\n",
    "    pytrends = TrendReq(hl='zh-TW', tz=360)\n",
    "    all_parts = []\n",
    "    for s, e in get_time_ranges(start_date, end_date):\n",
    "        print(f\"抓取 {s} ~ {e}\")\n",
    "        pytrends.build_payload([keyword],cat=0,timeframe=f\"{s} {e}\", geo='TW')\n",
    "        df = pytrends.interest_over_time()\n",
    "        if not df.empty:\n",
    "            all_parts.append(df[[keyword]])\n",
    "    if all_parts:\n",
    "        result = pd.concat(all_parts)\n",
    "        result = result[~result.index.duplicated()]\n",
    "        return result\n",
    "    return pd.DataFrame()\n",
    "\n",
    "###儲存資料\n",
    "def save_data(data, keyword, start_date, end_date):\n",
    "  import os\n",
    "  save_path = f\"{keyword}/{start_date}_to_{end_date}.csv\"\n",
    "  folder = os.path.dirname(save_path)\n",
    "  os.makedirs(folder, exist_ok=True)\n",
    "  data.to_csv(save_path, index=True, encoding='utf-8-sig')\n",
    "\n",
    "###全部執行\n",
    "def main(keyword, start_date, end_date):\n",
    "    trend_data = fetch_trend(keyword, start_date, end_date)\n",
    "    save_data(trend_data, keyword, start_date, end_date)\n",
    "\n",
    "###被擋ip就重新抓一遍\n",
    "def run_main_with_retry(keyword, start_date, end_date, max_retries=100000000000000):\n",
    "    import random\n",
    "    for attempt in range(max_retries):\n",
    "        try:\n",
    "            main(keyword, start_date, end_date)\n",
    "            return  # 成功則結束\n",
    "        except Exception as e:\n",
    "            if \"429\" in str(e):\n",
    "                delay_choices = list(range(5, 901))  #延遲的秒數\n",
    "                wait_time=random.choice(delay_choices)  #隨機選取秒數\n",
    "                print(f\"⚠️ 第 {attempt+1} 次嘗試 {keyword} {start_date}~{end_date} 發生 429 錯誤，等待 {wait_time} 秒後重試...\")\n",
    "                time.sleep(wait_time)\n",
    "            else:\n",
    "                raise  # 不是 429 的錯誤就丟出去\n",
    "\n",
    "###產生排程\n",
    "def generate_overlapping_ranges(start_date, end_date, window_years=5, overlap_years=1):\n",
    "    from datetime import timedelta\n",
    "    from dateutil.relativedelta import relativedelta\n",
    "    result = []\n",
    "    current_start = start_date\n",
    "\n",
    "    while True:\n",
    "        current_end = current_start + relativedelta(years=window_years)\n",
    "        if current_end > end_date:\n",
    "            current_end = end_date  # 補齊最後一段不滿5年也要加\n",
    "        result.append((current_start.strftime(\"%Y-%m-%d\"), current_end.strftime(\"%Y-%m-%d\")))\n",
    "        if current_end >= end_date:\n",
    "            break\n",
    "        current_start = current_start + relativedelta(years=(window_years - overlap_years))\n",
    "\n",
    "    return result\n",
    "\n",
    "###抓取預存資料\n",
    "def load_data(keyword, start_date, end_date):\n",
    "  save_path = f\"{keyword}/{start_date}_to_{end_date}.csv\"\n",
    "  return pd.read_csv(save_path)"
   ]
  },
  {
   "cell_type": "code",
   "execution_count": 18,
   "id": "8dcf1d53",
   "metadata": {},
   "outputs": [
    {
     "data": {
      "text/plain": [
       "['兆豐金 (2886)', '日月光投控 (3711)', '玉山金 (2884)', '華碩 (2357)', '統一 (1216)']"
      ]
     },
     "execution_count": 18,
     "metadata": {},
     "output_type": "execute_result"
    }
   ],
   "source": [
    "top_cap_chunks[2]"
   ]
  },
  {
   "cell_type": "code",
   "execution_count": 32,
   "id": "SUs-pB4e4uPc",
   "metadata": {
    "colab": {
     "base_uri": "https://localhost:8080/"
    },
    "id": "SUs-pB4e4uPc",
    "outputId": "bf899b5a-a4a6-4fa7-a631-0d1a2dd93aa0"
   },
   "outputs": [
    {
     "name": "stdout",
     "output_type": "stream",
     "text": [
      "\n",
      "🔍 華碩 (2357): 共 5 個期間\n",
      "抓取 2006-01-02 ~ 2011-01-01\n",
      "⚠️ 第 1 次嘗試 華碩 (2357) 2006-01-02~2011-01-02 發生 429 錯誤，等待 365 秒後重試...\n",
      "抓取 2006-01-02 ~ 2011-01-01\n",
      "⚠️ 第 2 次嘗試 華碩 (2357) 2006-01-02~2011-01-02 發生 429 錯誤，等待 818 秒後重試...\n",
      "抓取 2006-01-02 ~ 2011-01-01\n",
      "⚠️ 第 3 次嘗試 華碩 (2357) 2006-01-02~2011-01-02 發生 429 錯誤，等待 540 秒後重試...\n",
      "抓取 2006-01-02 ~ 2011-01-01\n",
      "抓取 2011-01-01 ~ 2011-01-02\n"
     ]
    },
    {
     "name": "stderr",
     "output_type": "stream",
     "text": [
      "等待中（559秒）: 華碩 (2357): 100%|███████████████████████████████| 559/559 [09:23<00:00,  1.01s/it]\n"
     ]
    },
    {
     "name": "stdout",
     "output_type": "stream",
     "text": [
      "抓取 2010-01-02 ~ 2015-01-01\n",
      "⚠️ 第 1 次嘗試 華碩 (2357) 2010-01-02~2015-01-02 發生 429 錯誤，等待 423 秒後重試...\n",
      "抓取 2010-01-02 ~ 2015-01-01\n",
      "⚠️ 第 2 次嘗試 華碩 (2357) 2010-01-02~2015-01-02 發生 429 錯誤，等待 681 秒後重試...\n",
      "抓取 2010-01-02 ~ 2015-01-01\n",
      "抓取 2015-01-01 ~ 2015-01-02\n",
      "⚠️ 第 3 次嘗試 華碩 (2357) 2010-01-02~2015-01-02 發生 429 錯誤，等待 696 秒後重試...\n",
      "抓取 2010-01-02 ~ 2015-01-01\n",
      "抓取 2015-01-01 ~ 2015-01-02\n",
      "⚠️ 第 4 次嘗試 華碩 (2357) 2010-01-02~2015-01-02 發生 429 錯誤，等待 709 秒後重試...\n",
      "抓取 2010-01-02 ~ 2015-01-01\n",
      "抓取 2015-01-01 ~ 2015-01-02\n",
      "⚠️ 第 5 次嘗試 華碩 (2357) 2010-01-02~2015-01-02 發生 429 錯誤，等待 867 秒後重試...\n",
      "抓取 2010-01-02 ~ 2015-01-01\n",
      "抓取 2015-01-01 ~ 2015-01-02\n",
      "⚠️ 第 6 次嘗試 華碩 (2357) 2010-01-02~2015-01-02 發生 429 錯誤，等待 603 秒後重試...\n",
      "抓取 2010-01-02 ~ 2015-01-01\n",
      "抓取 2015-01-01 ~ 2015-01-02\n"
     ]
    },
    {
     "name": "stderr",
     "output_type": "stream",
     "text": [
      "等待中（180秒）: 華碩 (2357): 100%|███████████████████████████████| 180/180 [03:01<00:00,  1.01s/it]\n"
     ]
    },
    {
     "name": "stdout",
     "output_type": "stream",
     "text": [
      "抓取 2014-01-02 ~ 2019-01-01\n",
      "抓取 2019-01-01 ~ 2019-01-02\n"
     ]
    },
    {
     "name": "stderr",
     "output_type": "stream",
     "text": [
      "等待中（766秒）: 華碩 (2357): 100%|███████████████████████████████| 766/766 [12:52<00:00,  1.01s/it]\n"
     ]
    },
    {
     "name": "stdout",
     "output_type": "stream",
     "text": [
      "抓取 2018-01-02 ~ 2023-01-01\n",
      "抓取 2023-01-01 ~ 2023-01-02\n"
     ]
    },
    {
     "name": "stderr",
     "output_type": "stream",
     "text": [
      "等待中（332秒）: 華碩 (2357): 100%|███████████████████████████████| 332/332 [05:34<00:00,  1.01s/it]\n"
     ]
    },
    {
     "name": "stdout",
     "output_type": "stream",
     "text": [
      "抓取 2022-01-02 ~ 2025-04-28\n"
     ]
    },
    {
     "name": "stderr",
     "output_type": "stream",
     "text": [
      "等待中（142秒）: 華碩 (2357): 100%|███████████████████████████████| 142/142 [02:23<00:00,  1.01s/it]\n"
     ]
    },
    {
     "name": "stdout",
     "output_type": "stream",
     "text": [
      "\n",
      "🔍 統一 (1216): 共 5 個期間\n",
      "抓取 2005-01-03 ~ 2010-01-02\n",
      "抓取 2010-01-02 ~ 2010-01-03\n"
     ]
    },
    {
     "name": "stderr",
     "output_type": "stream",
     "text": [
      "等待中（579秒）: 統一 (1216): 100%|███████████████████████████████| 579/579 [09:43<00:00,  1.01s/it]\n"
     ]
    },
    {
     "name": "stdout",
     "output_type": "stream",
     "text": [
      "抓取 2009-01-03 ~ 2014-01-02\n",
      "抓取 2014-01-02 ~ 2014-01-03\n"
     ]
    },
    {
     "name": "stderr",
     "output_type": "stream",
     "text": [
      "等待中（583秒）: 統一 (1216): 100%|███████████████████████████████| 583/583 [09:47<00:00,  1.01s/it]\n"
     ]
    },
    {
     "name": "stdout",
     "output_type": "stream",
     "text": [
      "抓取 2013-01-03 ~ 2018-01-02\n",
      "⚠️ 第 1 次嘗試 統一 (1216) 2013-01-03~2018-01-03 發生 429 錯誤，等待 715 秒後重試...\n",
      "抓取 2013-01-03 ~ 2018-01-02\n",
      "⚠️ 第 2 次嘗試 統一 (1216) 2013-01-03~2018-01-03 發生 429 錯誤，等待 809 秒後重試...\n",
      "抓取 2013-01-03 ~ 2018-01-02\n",
      "⚠️ 第 3 次嘗試 統一 (1216) 2013-01-03~2018-01-03 發生 429 錯誤，等待 508 秒後重試...\n",
      "抓取 2013-01-03 ~ 2018-01-02\n",
      "抓取 2018-01-02 ~ 2018-01-03\n"
     ]
    },
    {
     "name": "stderr",
     "output_type": "stream",
     "text": [
      "等待中（532秒）: 統一 (1216): 100%|███████████████████████████████| 532/532 [08:56<00:00,  1.01s/it]\n"
     ]
    },
    {
     "name": "stdout",
     "output_type": "stream",
     "text": [
      "抓取 2017-01-03 ~ 2022-01-02\n",
      "⚠️ 第 1 次嘗試 統一 (1216) 2017-01-03~2022-01-03 發生 429 錯誤，等待 565 秒後重試...\n",
      "抓取 2017-01-03 ~ 2022-01-02\n",
      "⚠️ 第 2 次嘗試 統一 (1216) 2017-01-03~2022-01-03 發生 429 錯誤，等待 547 秒後重試...\n",
      "抓取 2017-01-03 ~ 2022-01-02\n",
      "抓取 2022-01-02 ~ 2022-01-03\n"
     ]
    },
    {
     "name": "stderr",
     "output_type": "stream",
     "text": [
      "等待中（831秒）: 統一 (1216): 100%|███████████████████████████████| 831/831 [13:57<00:00,  1.01s/it]\n"
     ]
    },
    {
     "name": "stdout",
     "output_type": "stream",
     "text": [
      "抓取 2021-01-03 ~ 2025-04-28\n"
     ]
    },
    {
     "name": "stderr",
     "output_type": "stream",
     "text": [
      "等待中（176秒）: 統一 (1216): 100%|███████████████████████████████| 176/176 [02:57<00:00,  1.01s/it]\n"
     ]
    }
   ],
   "source": [
    "import time\n",
    "from tqdm import tqdm\n",
    "import random\n",
    "for keyword in ['華碩 (2357)', '統一 (1216)']:\n",
    "    try:\n",
    "        s = pd.to_datetime(work_list.loc[keyword, 'start_date'])\n",
    "        e = pd.to_datetime(work_list.loc[keyword, 'end_date'])\n",
    "        ranges = generate_overlapping_ranges(s, e)\n",
    "\n",
    "        print(f\"\\n🔍 {keyword}: 共 {len(ranges)} 個期間\")\n",
    "        for start_date, end_date in ranges:\n",
    "            try:\n",
    "                run_main_with_retry(keyword, start_date, end_date)\n",
    "            except Exception as e:\n",
    "                print(f\"❌ 最終失敗：{keyword}, {start_date}~{end_date}：{e}\")\n",
    "\n",
    "            delay_choices = list(range(5, 901))  #延遲的秒數\n",
    "            delay = random.choice(delay_choices)  #隨機選取秒數\n",
    "\n",
    "            # 每支股票處理完後，休息 15 分鐘\n",
    "            for i in tqdm(range(delay), desc=f\"等待中（{delay}秒）: {keyword}\", ncols=100):\n",
    "                time.sleep(1)\n",
    "\n",
    "    except Exception as e:\n",
    "        print(f\"❌ 無法處理 {keyword} 的日期範圍：{e}\")"
   ]
  },
  {
   "cell_type": "code",
   "execution_count": 33,
   "id": "f8e60a50",
   "metadata": {},
   "outputs": [
    {
     "name": "stdout",
     "output_type": "stream",
     "text": [
      "\n",
      "🔍 元大金 (2885): 共 5 個期間\n",
      "抓取 2005-01-03 ~ 2010-01-02\n",
      "抓取 2010-01-02 ~ 2010-01-03\n"
     ]
    },
    {
     "name": "stderr",
     "output_type": "stream",
     "text": [
      "等待中（278秒）: 元大金 (2885): 100%|█████████████████████████████| 278/278 [04:40<00:00,  1.01s/it]\n"
     ]
    },
    {
     "name": "stdout",
     "output_type": "stream",
     "text": [
      "抓取 2009-01-03 ~ 2014-01-02\n",
      "抓取 2014-01-02 ~ 2014-01-03\n"
     ]
    },
    {
     "name": "stderr",
     "output_type": "stream",
     "text": [
      "等待中（137秒）: 元大金 (2885): 100%|█████████████████████████████| 137/137 [02:18<00:00,  1.01s/it]\n"
     ]
    },
    {
     "name": "stdout",
     "output_type": "stream",
     "text": [
      "抓取 2013-01-03 ~ 2018-01-02\n",
      "抓取 2018-01-02 ~ 2018-01-03\n"
     ]
    },
    {
     "name": "stderr",
     "output_type": "stream",
     "text": [
      "等待中（802秒）: 元大金 (2885): 100%|█████████████████████████████| 802/802 [13:28<00:00,  1.01s/it]\n"
     ]
    },
    {
     "name": "stdout",
     "output_type": "stream",
     "text": [
      "抓取 2017-01-03 ~ 2022-01-02\n",
      "抓取 2022-01-02 ~ 2022-01-03\n"
     ]
    },
    {
     "name": "stderr",
     "output_type": "stream",
     "text": [
      "等待中（65秒）: 元大金 (2885): 100%|████████████████████████████████| 65/65 [01:05<00:00,  1.01s/it]\n"
     ]
    },
    {
     "name": "stdout",
     "output_type": "stream",
     "text": [
      "抓取 2021-01-03 ~ 2025-04-28\n"
     ]
    },
    {
     "name": "stderr",
     "output_type": "stream",
     "text": [
      "等待中（879秒）: 元大金 (2885): 100%|█████████████████████████████| 879/879 [14:46<00:00,  1.01s/it]\n"
     ]
    },
    {
     "name": "stdout",
     "output_type": "stream",
     "text": [
      "\n",
      "🔍 智邦 (2345): 共 5 個期間\n",
      "抓取 2006-01-02 ~ 2011-01-01\n",
      "抓取 2011-01-01 ~ 2011-01-02\n"
     ]
    },
    {
     "name": "stderr",
     "output_type": "stream",
     "text": [
      "等待中（62秒）: 智邦 (2345): 100%|██████████████████████████████████| 62/62 [01:02<00:00,  1.01s/it]\n"
     ]
    },
    {
     "name": "stdout",
     "output_type": "stream",
     "text": [
      "抓取 2010-01-02 ~ 2015-01-01\n",
      "抓取 2015-01-01 ~ 2015-01-02\n"
     ]
    },
    {
     "name": "stderr",
     "output_type": "stream",
     "text": [
      "等待中（729秒）: 智邦 (2345): 100%|███████████████████████████████| 729/729 [12:14<00:00,  1.01s/it]\n"
     ]
    },
    {
     "name": "stdout",
     "output_type": "stream",
     "text": [
      "抓取 2014-01-02 ~ 2019-01-01\n",
      "抓取 2019-01-01 ~ 2019-01-02\n"
     ]
    },
    {
     "name": "stderr",
     "output_type": "stream",
     "text": [
      "等待中（509秒）: 智邦 (2345): 100%|███████████████████████████████| 509/509 [08:33<00:00,  1.01s/it]\n"
     ]
    },
    {
     "name": "stdout",
     "output_type": "stream",
     "text": [
      "抓取 2018-01-02 ~ 2023-01-01\n",
      "抓取 2023-01-01 ~ 2023-01-02\n"
     ]
    },
    {
     "name": "stderr",
     "output_type": "stream",
     "text": [
      "等待中（574秒）: 智邦 (2345): 100%|███████████████████████████████| 574/574 [09:38<00:00,  1.01s/it]\n"
     ]
    },
    {
     "name": "stdout",
     "output_type": "stream",
     "text": [
      "抓取 2022-01-02 ~ 2025-04-28\n"
     ]
    },
    {
     "name": "stderr",
     "output_type": "stream",
     "text": [
      "等待中（93秒）: 智邦 (2345): 100%|██████████████████████████████████| 93/93 [01:33<00:00,  1.01s/it]\n"
     ]
    },
    {
     "name": "stdout",
     "output_type": "stream",
     "text": [
      "\n",
      "🔍 緯創 (3231): 共 4 個期間\n",
      "抓取 2011-01-03 ~ 2016-01-02\n",
      "抓取 2016-01-02 ~ 2016-01-03\n"
     ]
    },
    {
     "name": "stderr",
     "output_type": "stream",
     "text": [
      "等待中（309秒）: 緯創 (3231): 100%|███████████████████████████████| 309/309 [05:11<00:00,  1.01s/it]\n"
     ]
    },
    {
     "name": "stdout",
     "output_type": "stream",
     "text": [
      "抓取 2015-01-03 ~ 2020-01-02\n",
      "抓取 2020-01-02 ~ 2020-01-03\n"
     ]
    },
    {
     "name": "stderr",
     "output_type": "stream",
     "text": [
      "等待中（832秒）: 緯創 (3231): 100%|███████████████████████████████| 832/832 [13:58<00:00,  1.01s/it]\n"
     ]
    },
    {
     "name": "stdout",
     "output_type": "stream",
     "text": [
      "抓取 2019-01-03 ~ 2024-01-02\n",
      "抓取 2024-01-02 ~ 2024-01-03\n"
     ]
    },
    {
     "name": "stderr",
     "output_type": "stream",
     "text": [
      "等待中（414秒）: 緯創 (3231): 100%|███████████████████████████████| 414/414 [06:57<00:00,  1.01s/it]\n"
     ]
    },
    {
     "name": "stdout",
     "output_type": "stream",
     "text": [
      "抓取 2023-01-03 ~ 2025-04-28\n"
     ]
    },
    {
     "name": "stderr",
     "output_type": "stream",
     "text": [
      "等待中（678秒）: 緯創 (3231): 100%|███████████████████████████████| 678/678 [11:23<00:00,  1.01s/it]\n"
     ]
    },
    {
     "name": "stdout",
     "output_type": "stream",
     "text": [
      "\n",
      "🔍 聯詠 (3034): 共 5 個期間\n",
      "抓取 2006-01-02 ~ 2011-01-01\n",
      "抓取 2011-01-01 ~ 2011-01-02\n"
     ]
    },
    {
     "name": "stderr",
     "output_type": "stream",
     "text": [
      "等待中（115秒）: 聯詠 (3034): 100%|███████████████████████████████| 115/115 [01:55<00:00,  1.01s/it]\n"
     ]
    },
    {
     "name": "stdout",
     "output_type": "stream",
     "text": [
      "抓取 2010-01-02 ~ 2015-01-01\n",
      "抓取 2015-01-01 ~ 2015-01-02\n"
     ]
    },
    {
     "name": "stderr",
     "output_type": "stream",
     "text": [
      "等待中（711秒）: 聯詠 (3034): 100%|███████████████████████████████| 711/711 [11:56<00:00,  1.01s/it]\n"
     ]
    },
    {
     "name": "stdout",
     "output_type": "stream",
     "text": [
      "抓取 2014-01-02 ~ 2019-01-01\n",
      "抓取 2019-01-01 ~ 2019-01-02\n"
     ]
    },
    {
     "name": "stderr",
     "output_type": "stream",
     "text": [
      "等待中（853秒）: 聯詠 (3034): 100%|███████████████████████████████| 853/853 [14:20<00:00,  1.01s/it]\n"
     ]
    },
    {
     "name": "stdout",
     "output_type": "stream",
     "text": [
      "抓取 2018-01-02 ~ 2023-01-01\n",
      "抓取 2023-01-01 ~ 2023-01-02\n"
     ]
    },
    {
     "name": "stderr",
     "output_type": "stream",
     "text": [
      "等待中（708秒）: 聯詠 (3034): 100%|███████████████████████████████| 708/708 [11:53<00:00,  1.01s/it]\n"
     ]
    },
    {
     "name": "stdout",
     "output_type": "stream",
     "text": [
      "抓取 2022-01-02 ~ 2025-04-28\n"
     ]
    },
    {
     "name": "stderr",
     "output_type": "stream",
     "text": [
      "等待中（148秒）: 聯詠 (3034): 100%|███████████████████████████████| 148/148 [02:29<00:00,  1.01s/it]\n"
     ]
    },
    {
     "name": "stdout",
     "output_type": "stream",
     "text": [
      "\n",
      "🔍 第一金 (2892): 共 5 個期間\n",
      "抓取 2005-01-03 ~ 2010-01-02\n",
      "抓取 2010-01-02 ~ 2010-01-03\n"
     ]
    },
    {
     "name": "stderr",
     "output_type": "stream",
     "text": [
      "等待中（893秒）: 第一金 (2892): 100%|█████████████████████████████| 893/893 [15:00<00:00,  1.01s/it]\n"
     ]
    },
    {
     "name": "stdout",
     "output_type": "stream",
     "text": [
      "抓取 2009-01-03 ~ 2014-01-02\n",
      "抓取 2014-01-02 ~ 2014-01-03\n"
     ]
    },
    {
     "name": "stderr",
     "output_type": "stream",
     "text": [
      "等待中（369秒）: 第一金 (2892): 100%|█████████████████████████████| 369/369 [06:12<00:00,  1.01s/it]\n"
     ]
    },
    {
     "name": "stdout",
     "output_type": "stream",
     "text": [
      "抓取 2013-01-03 ~ 2018-01-02\n",
      "抓取 2018-01-02 ~ 2018-01-03\n"
     ]
    },
    {
     "name": "stderr",
     "output_type": "stream",
     "text": [
      "等待中（731秒）: 第一金 (2892): 100%|█████████████████████████████| 731/731 [12:17<00:00,  1.01s/it]\n"
     ]
    },
    {
     "name": "stdout",
     "output_type": "stream",
     "text": [
      "抓取 2017-01-03 ~ 2022-01-02\n",
      "抓取 2022-01-02 ~ 2022-01-03\n"
     ]
    },
    {
     "name": "stderr",
     "output_type": "stream",
     "text": [
      "等待中（180秒）: 第一金 (2892): 100%|█████████████████████████████| 180/180 [03:01<00:00,  1.01s/it]\n"
     ]
    },
    {
     "name": "stdout",
     "output_type": "stream",
     "text": [
      "抓取 2021-01-03 ~ 2025-04-28\n"
     ]
    },
    {
     "name": "stderr",
     "output_type": "stream",
     "text": [
      "等待中（15秒）: 第一金 (2892): 100%|████████████████████████████████| 15/15 [00:15<00:00,  1.01s/it]\n"
     ]
    }
   ],
   "source": [
    "import time\n",
    "from tqdm import tqdm\n",
    "import random\n",
    "for keyword in top_cap_chunks[3]:\n",
    "    try:\n",
    "        s = pd.to_datetime(work_list.loc[keyword, 'start_date'])\n",
    "        e = pd.to_datetime(work_list.loc[keyword, 'end_date'])\n",
    "        ranges = generate_overlapping_ranges(s, e)\n",
    "\n",
    "        print(f\"\\n🔍 {keyword}: 共 {len(ranges)} 個期間\")\n",
    "        for start_date, end_date in ranges:\n",
    "            try:\n",
    "                run_main_with_retry(keyword, start_date, end_date)\n",
    "            except Exception as e:\n",
    "                print(f\"❌ 最終失敗：{keyword}, {start_date}~{end_date}：{e}\")\n",
    "\n",
    "            delay_choices = list(range(5, 901))  #延遲的秒數\n",
    "            delay = random.choice(delay_choices)  #隨機選取秒數\n",
    "\n",
    "            # 每支股票處理完後，休息 15 分鐘\n",
    "            for i in tqdm(range(delay), desc=f\"等待中（{delay}秒）: {keyword}\", ncols=100):\n",
    "                time.sleep(1)\n",
    "\n",
    "    except Exception as e:\n",
    "        print(f\"❌ 無法處理 {keyword} 的日期範圍：{e}\")"
   ]
  },
  {
   "cell_type": "markdown",
   "id": "M9dzxKt1BYTK",
   "metadata": {
    "id": "M9dzxKt1BYTK"
   },
   "source": [
    "# 時間序列上接取資料"
   ]
  },
  {
   "cell_type": "code",
   "execution_count": null,
   "id": "5caexgNxd16k",
   "metadata": {
    "id": "5caexgNxd16k"
   },
   "outputs": [],
   "source": [
    "def outer_concat_by_period_columns(trend_dict):\n",
    "    result = pd.DataFrame()\n",
    "    for period, df in trend_dict.items():\n",
    "        if df.empty or 'date' not in df.columns:\n",
    "            print(f\"跳過 {period}，因為 DataFrame 是空的或缺少 'date' 欄位\")\n",
    "            continue\n",
    "        df = df.copy()\n",
    "        df['date'] = pd.to_datetime(df['date'])\n",
    "        df = df.set_index('date')\n",
    "        df = df.rename(columns={df.columns[0]: period})\n",
    "        result = pd.concat([result, df], axis=1)\n",
    "    return result\n"
   ]
  },
  {
   "cell_type": "code",
   "execution_count": null,
   "id": "hmA1Z1EfgvN5",
   "metadata": {
    "id": "hmA1Z1EfgvN5"
   },
   "outputs": [],
   "source": [
    "def merge_and_smooth_trends(trend_df):\n",
    "    col_list = trend_df.columns.tolist()\n",
    "    result_series = pd.Series(index=trend_df.index, dtype=float)\n",
    "    scaling_factor = 1.0  # 初始比例係數\n",
    "\n",
    "    for i, col in enumerate(col_list):\n",
    "        col_series = trend_df[col] * scaling_factor\n",
    "        mask = col_series.notna()\n",
    "\n",
    "        if i > 0:\n",
    "            prev_col = col_list[i - 1]\n",
    "            prev_series = result_series  # 改為用平滑過的 series 當作前一段\n",
    "\n",
    "            # 找出兩段都存在值的重疊區間\n",
    "            overlap_mask = mask & prev_series.notna()\n",
    "            if overlap_mask.any():\n",
    "                overlap_curr = col_series[overlap_mask]\n",
    "                overlap_prev = prev_series[overlap_mask]\n",
    "\n",
    "                # 避免除以 0\n",
    "                valid_mask = overlap_curr != 0\n",
    "                if valid_mask.any():\n",
    "                    ratio_series = overlap_prev[valid_mask] / overlap_curr[valid_mask]\n",
    "                    scaling_factor *= ratio_series.mean()\n",
    "\n",
    "                    # 用更新後的係數重新計算 col_series\n",
    "                    col_series = trend_df[col] * scaling_factor\n",
    "\n",
    "        # 將這段的資料填入尚未有資料的位置\n",
    "        result_series[mask & result_series.isna()] = col_series[mask & result_series.isna()]\n",
    "\n",
    "    return result_series"
   ]
  },
  {
   "cell_type": "code",
   "execution_count": null,
   "id": "b7AXbJLZBflO",
   "metadata": {
    "colab": {
     "base_uri": "https://localhost:8080/"
    },
    "executionInfo": {
     "elapsed": 4,
     "status": "ok",
     "timestamp": 1748155955259,
     "user": {
      "displayName": "楊哲睿",
      "userId": "12349765676182139435"
     },
     "user_tz": -480
    },
    "id": "b7AXbJLZBflO",
    "outputId": "822e24ab-bcd4-452f-d1d4-0c0e6d1df98e"
   },
   "outputs": [
    {
     "name": "stdout",
     "output_type": "stream",
     "text": [
      "\n",
      "🔍 中信金 (2891): 共 5 個期間\n",
      "跳過 2005-01-03_to_2010-01-03，因為 DataFrame 是空的或缺少 'date' 欄位\n",
      "\n",
      "🔍 富邦金 (2881): 共 5 個期間\n",
      "跳過 2005-01-03_to_2010-01-03，因為 DataFrame 是空的或缺少 'date' 欄位\n",
      "\n",
      "🔍 國泰金 (2882): 共 5 個期間\n",
      "跳過 2009-01-03_to_2014-01-03，因為 DataFrame 是空的或缺少 'date' 欄位\n",
      "\n",
      "🔍 聯電 (2303): 共 5 個期間\n",
      "\n",
      "🔍 中華電 (2412): 共 5 個期間\n",
      "跳過 2006-01-02_to_2011-01-02，因為 DataFrame 是空的或缺少 'date' 欄位\n"
     ]
    }
   ],
   "source": [
    "raw_dict={}\n",
    "foward_adj_df=pd.DataFrame()\n",
    "\n",
    "for keyword in ['中信金 (2891)', '富邦金 (2881)', '國泰金 (2882)', '聯電 (2303)', '中華電 (2412)']:#top_cap_chunks[0]:\n",
    "      s = pd.to_datetime(work_list.loc[keyword, 'start_date'])\n",
    "      e = pd.to_datetime(work_list.loc[keyword, 'end_date'])\n",
    "      ranges = generate_overlapping_ranges(s, e)\n",
    "\n",
    "      print(f\"\\n🔍 {keyword}: 共 {len(ranges)} 個期間\")\n",
    "      for start_date, end_date in ranges:\n",
    "        if keyword not in raw_dict:\n",
    "          raw_dict[keyword] = {}\n",
    "        raw_dict[keyword][f'{start_date}_to_{end_date}']=load_data(keyword, start_date, end_date)\n",
    "      raw_dict[keyword]=outer_concat_by_period_columns(raw_dict[keyword])\n",
    "      foward_adj_df[keyword]=merge_and_smooth_trends(raw_dict[keyword])"
   ]
  },
  {
   "cell_type": "markdown",
   "id": "L5QisJZb6AEt",
   "metadata": {
    "id": "L5QisJZb6AEt"
   },
   "source": [
    "# 周頻率資料轉日頻率資料"
   ]
  },
  {
   "cell_type": "code",
   "execution_count": null,
   "id": "Vijgk-jc6GSD",
   "metadata": {
    "id": "Vijgk-jc6GSD"
   },
   "outputs": [],
   "source": [
    "def ffill_to_every_day(foward_adj_df):\n",
    "  foward_adj_df.index = pd.to_datetime(foward_adj_df.index)\n",
    "  full_index = pd.date_range(start=foward_adj_df.index.min(), end=foward_adj_df.index.max(), freq='D')\n",
    "  return foward_adj_df.reindex(full_index,method='ffill')"
   ]
  },
  {
   "cell_type": "code",
   "execution_count": null,
   "id": "8fzGeSgpjTud",
   "metadata": {
    "id": "8fzGeSgpjTud"
   },
   "outputs": [],
   "source": [
    "every_day_df=ffill_to_every_day(foward_adj_df)"
   ]
  },
  {
   "cell_type": "markdown",
   "id": "4nwBQWm8kQ9v",
   "metadata": {
    "id": "4nwBQWm8kQ9v"
   },
   "source": [
    "# reindex 成交易日"
   ]
  },
  {
   "cell_type": "code",
   "execution_count": null,
   "id": "DheX6pzskcca",
   "metadata": {
    "id": "DheX6pzskcca"
   },
   "outputs": [],
   "source": [
    "open_date=bench_mark.index\n",
    "every_day_df=every_day_df.reindex(open_date,method='ffill')"
   ]
  },
  {
   "cell_type": "code",
   "execution_count": null,
   "id": "ERXN2v2skc7l",
   "metadata": {
    "colab": {
     "base_uri": "https://localhost:8080/",
     "height": 317
    },
    "executionInfo": {
     "elapsed": 327,
     "status": "ok",
     "timestamp": 1748155959785,
     "user": {
      "displayName": "楊哲睿",
      "userId": "12349765676182139435"
     },
     "user_tz": -480
    },
    "id": "ERXN2v2skc7l",
    "outputId": "18fd7c51-204e-4ffd-e492-f5c364e79df4"
   },
   "outputs": [
    {
     "data": {
      "text/plain": [
       "<Axes: xlabel='datetime'>"
      ]
     },
     "execution_count": 50,
     "metadata": {},
     "output_type": "execute_result"
    },
    {
     "name": "stderr",
     "output_type": "stream",
     "text": [
      "/Users/yangzherui/Library/Python/3.10/lib/python/site-packages/IPython/core/events.py:82: UserWarning: Glyph 20013 (\\N{CJK UNIFIED IDEOGRAPH-4E2D}) missing from font(s) DejaVu Sans.\n",
      "  func(*args, **kwargs)\n",
      "/Users/yangzherui/Library/Python/3.10/lib/python/site-packages/IPython/core/events.py:82: UserWarning: Glyph 20449 (\\N{CJK UNIFIED IDEOGRAPH-4FE1}) missing from font(s) DejaVu Sans.\n",
      "  func(*args, **kwargs)\n",
      "/Users/yangzherui/Library/Python/3.10/lib/python/site-packages/IPython/core/events.py:82: UserWarning: Glyph 37329 (\\N{CJK UNIFIED IDEOGRAPH-91D1}) missing from font(s) DejaVu Sans.\n",
      "  func(*args, **kwargs)\n",
      "/Users/yangzherui/Library/Python/3.10/lib/python/site-packages/IPython/core/events.py:82: UserWarning: Glyph 23500 (\\N{CJK UNIFIED IDEOGRAPH-5BCC}) missing from font(s) DejaVu Sans.\n",
      "  func(*args, **kwargs)\n",
      "/Users/yangzherui/Library/Python/3.10/lib/python/site-packages/IPython/core/events.py:82: UserWarning: Glyph 37030 (\\N{CJK UNIFIED IDEOGRAPH-90A6}) missing from font(s) DejaVu Sans.\n",
      "  func(*args, **kwargs)\n",
      "/Users/yangzherui/Library/Python/3.10/lib/python/site-packages/IPython/core/events.py:82: UserWarning: Glyph 22283 (\\N{CJK UNIFIED IDEOGRAPH-570B}) missing from font(s) DejaVu Sans.\n",
      "  func(*args, **kwargs)\n",
      "/Users/yangzherui/Library/Python/3.10/lib/python/site-packages/IPython/core/events.py:82: UserWarning: Glyph 27888 (\\N{CJK UNIFIED IDEOGRAPH-6CF0}) missing from font(s) DejaVu Sans.\n",
      "  func(*args, **kwargs)\n",
      "/Users/yangzherui/Library/Python/3.10/lib/python/site-packages/IPython/core/events.py:82: UserWarning: Glyph 32879 (\\N{CJK UNIFIED IDEOGRAPH-806F}) missing from font(s) DejaVu Sans.\n",
      "  func(*args, **kwargs)\n",
      "/Users/yangzherui/Library/Python/3.10/lib/python/site-packages/IPython/core/events.py:82: UserWarning: Glyph 38651 (\\N{CJK UNIFIED IDEOGRAPH-96FB}) missing from font(s) DejaVu Sans.\n",
      "  func(*args, **kwargs)\n",
      "/Users/yangzherui/Library/Python/3.10/lib/python/site-packages/IPython/core/events.py:82: UserWarning: Glyph 33775 (\\N{CJK UNIFIED IDEOGRAPH-83EF}) missing from font(s) DejaVu Sans.\n",
      "  func(*args, **kwargs)\n",
      "/Users/yangzherui/Library/Python/3.10/lib/python/site-packages/IPython/core/pylabtools.py:170: UserWarning: Glyph 20013 (\\N{CJK UNIFIED IDEOGRAPH-4E2D}) missing from font(s) DejaVu Sans.\n",
      "  fig.canvas.print_figure(bytes_io, **kw)\n",
      "/Users/yangzherui/Library/Python/3.10/lib/python/site-packages/IPython/core/pylabtools.py:170: UserWarning: Glyph 20449 (\\N{CJK UNIFIED IDEOGRAPH-4FE1}) missing from font(s) DejaVu Sans.\n",
      "  fig.canvas.print_figure(bytes_io, **kw)\n",
      "/Users/yangzherui/Library/Python/3.10/lib/python/site-packages/IPython/core/pylabtools.py:170: UserWarning: Glyph 37329 (\\N{CJK UNIFIED IDEOGRAPH-91D1}) missing from font(s) DejaVu Sans.\n",
      "  fig.canvas.print_figure(bytes_io, **kw)\n",
      "/Users/yangzherui/Library/Python/3.10/lib/python/site-packages/IPython/core/pylabtools.py:170: UserWarning: Glyph 23500 (\\N{CJK UNIFIED IDEOGRAPH-5BCC}) missing from font(s) DejaVu Sans.\n",
      "  fig.canvas.print_figure(bytes_io, **kw)\n",
      "/Users/yangzherui/Library/Python/3.10/lib/python/site-packages/IPython/core/pylabtools.py:170: UserWarning: Glyph 37030 (\\N{CJK UNIFIED IDEOGRAPH-90A6}) missing from font(s) DejaVu Sans.\n",
      "  fig.canvas.print_figure(bytes_io, **kw)\n",
      "/Users/yangzherui/Library/Python/3.10/lib/python/site-packages/IPython/core/pylabtools.py:170: UserWarning: Glyph 22283 (\\N{CJK UNIFIED IDEOGRAPH-570B}) missing from font(s) DejaVu Sans.\n",
      "  fig.canvas.print_figure(bytes_io, **kw)\n",
      "/Users/yangzherui/Library/Python/3.10/lib/python/site-packages/IPython/core/pylabtools.py:170: UserWarning: Glyph 27888 (\\N{CJK UNIFIED IDEOGRAPH-6CF0}) missing from font(s) DejaVu Sans.\n",
      "  fig.canvas.print_figure(bytes_io, **kw)\n",
      "/Users/yangzherui/Library/Python/3.10/lib/python/site-packages/IPython/core/pylabtools.py:170: UserWarning: Glyph 32879 (\\N{CJK UNIFIED IDEOGRAPH-806F}) missing from font(s) DejaVu Sans.\n",
      "  fig.canvas.print_figure(bytes_io, **kw)\n",
      "/Users/yangzherui/Library/Python/3.10/lib/python/site-packages/IPython/core/pylabtools.py:170: UserWarning: Glyph 38651 (\\N{CJK UNIFIED IDEOGRAPH-96FB}) missing from font(s) DejaVu Sans.\n",
      "  fig.canvas.print_figure(bytes_io, **kw)\n",
      "/Users/yangzherui/Library/Python/3.10/lib/python/site-packages/IPython/core/pylabtools.py:170: UserWarning: Glyph 33775 (\\N{CJK UNIFIED IDEOGRAPH-83EF}) missing from font(s) DejaVu Sans.\n",
      "  fig.canvas.print_figure(bytes_io, **kw)\n"
     ]
    },
    {
     "data": {
      "image/png": "[encoded data removed]",
      "text/plain": [
       "<Figure size 1200x300 with 1 Axes>"
      ]
     },
     "metadata": {},
     "output_type": "display_data"
    }
   ],
   "source": [
    "every_day_df.plot(figsize=(12,3))"
   ]
  },
  {
   "cell_type": "markdown",
   "id": "OFuccPDLHSdj",
   "metadata": {
    "id": "OFuccPDLHSdj"
   },
   "source": [
    "![截圖 2025-05-25 下午2.24.53.png](data:image/png;base64,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)"
   ]
  },
  {
   "cell_type": "code",
   "execution_count": null,
   "id": "GbJerPMzkc-K",
   "metadata": {
    "id": "GbJerPMzkc-K"
   },
   "outputs": [],
   "source": []
  },
  {
   "cell_type": "code",
   "execution_count": null,
   "id": "MaBmzKZIkdAg",
   "metadata": {
    "id": "MaBmzKZIkdAg"
   },
   "outputs": [],
   "source": []
  },
  {
   "cell_type": "code",
   "execution_count": null,
   "id": "JLXZU-ACPW6P",
   "metadata": {
    "id": "JLXZU-ACPW6P"
   },
   "outputs": [],
   "source": []
  },
  {
   "cell_type": "markdown",
   "id": "nbIInUEsPX_X",
   "metadata": {
    "id": "nbIInUEsPX_X"
   },
   "source": [
    "# filter 原始股池"
   ]
  },
  {
   "cell_type": "code",
   "execution_count": null,
   "id": "C4YADlGKPYf2",
   "metadata": {
    "id": "C4YADlGKPYf2"
   },
   "outputs": [],
   "source": []
  },
  {
   "cell_type": "code",
   "execution_count": null,
   "id": "3m91c9kXPa3U",
   "metadata": {
    "id": "3m91c9kXPa3U"
   },
   "outputs": [],
   "source": []
  },
  {
   "cell_type": "code",
   "execution_count": null,
   "id": "D8DMnuZXPa9i",
   "metadata": {
    "id": "D8DMnuZXPa9i"
   },
   "outputs": [],
   "source": []
  },
  {
   "cell_type": "code",
   "execution_count": null,
   "id": "eai0-3c5PbCy",
   "metadata": {
    "id": "eai0-3c5PbCy"
   },
   "outputs": [],
   "source": []
  },
  {
   "cell_type": "markdown",
   "id": "WN_Gf6fSWYtE",
   "metadata": {
    "id": "WN_Gf6fSWYtE"
   },
   "source": [
    "# 欄位更名"
   ]
  },
  {
   "cell_type": "code",
   "execution_count": null,
   "id": "15234e59",
   "metadata": {},
   "outputs": [],
   "source": [
    "column_map = work_list['symbol'].to_dict()\n",
    "news_factor=every_day_df.rename(columns=column_map)"
   ]
  },
  {
   "cell_type": "code",
   "execution_count": null,
   "id": "552a0c8c",
   "metadata": {},
   "outputs": [
    {
     "data": {
      "text/html": [
       "<div>\n",
       "<style scoped>\n",
       "    .dataframe tbody tr th:only-of-type {\n",
       "        vertical-align: middle;\n",
       "    }\n",
       "\n",
       "    .dataframe tbody tr th {\n",
       "        vertical-align: top;\n",
       "    }\n",
       "\n",
       "    .dataframe thead th {\n",
       "        text-align: right;\n",
       "    }\n",
       "</style>\n",
       "<table border=\"1\" class=\"dataframe\">\n",
       "  <thead>\n",
       "    <tr style=\"text-align: right;\">\n",
       "      <th></th>\n",
       "      <th>2891</th>\n",
       "      <th>2881</th>\n",
       "      <th>2882</th>\n",
       "      <th>2303</th>\n",
       "      <th>2412</th>\n",
       "    </tr>\n",
       "    <tr>\n",
       "      <th>datetime</th>\n",
       "      <th></th>\n",
       "      <th></th>\n",
       "      <th></th>\n",
       "      <th></th>\n",
       "      <th></th>\n",
       "    </tr>\n",
       "  </thead>\n",
       "  <tbody>\n",
       "    <tr>\n",
       "      <th>2005-01-03</th>\n",
       "      <td>NaN</td>\n",
       "      <td>NaN</td>\n",
       "      <td>NaN</td>\n",
       "      <td>NaN</td>\n",
       "      <td>NaN</td>\n",
       "    </tr>\n",
       "    <tr>\n",
       "      <th>2005-01-04</th>\n",
       "      <td>NaN</td>\n",
       "      <td>NaN</td>\n",
       "      <td>NaN</td>\n",
       "      <td>NaN</td>\n",
       "      <td>NaN</td>\n",
       "    </tr>\n",
       "    <tr>\n",
       "      <th>2005-01-05</th>\n",
       "      <td>NaN</td>\n",
       "      <td>NaN</td>\n",
       "      <td>NaN</td>\n",
       "      <td>NaN</td>\n",
       "      <td>NaN</td>\n",
       "    </tr>\n",
       "    <tr>\n",
       "      <th>2005-01-06</th>\n",
       "      <td>NaN</td>\n",
       "      <td>NaN</td>\n",
       "      <td>NaN</td>\n",
       "      <td>NaN</td>\n",
       "      <td>NaN</td>\n",
       "    </tr>\n",
       "    <tr>\n",
       "      <th>2005-01-07</th>\n",
       "      <td>NaN</td>\n",
       "      <td>NaN</td>\n",
       "      <td>NaN</td>\n",
       "      <td>NaN</td>\n",
       "      <td>NaN</td>\n",
       "    </tr>\n",
       "    <tr>\n",
       "      <th>...</th>\n",
       "      <td>...</td>\n",
       "      <td>...</td>\n",
       "      <td>...</td>\n",
       "      <td>...</td>\n",
       "      <td>...</td>\n",
       "    </tr>\n",
       "    <tr>\n",
       "      <th>2025-04-22</th>\n",
       "      <td>0.000000</td>\n",
       "      <td>0.000000</td>\n",
       "      <td>0.0</td>\n",
       "      <td>53.500583</td>\n",
       "      <td>0.0</td>\n",
       "    </tr>\n",
       "    <tr>\n",
       "      <th>2025-04-23</th>\n",
       "      <td>0.000000</td>\n",
       "      <td>0.000000</td>\n",
       "      <td>0.0</td>\n",
       "      <td>53.500583</td>\n",
       "      <td>0.0</td>\n",
       "    </tr>\n",
       "    <tr>\n",
       "      <th>2025-04-24</th>\n",
       "      <td>0.000000</td>\n",
       "      <td>0.000000</td>\n",
       "      <td>0.0</td>\n",
       "      <td>53.500583</td>\n",
       "      <td>0.0</td>\n",
       "    </tr>\n",
       "    <tr>\n",
       "      <th>2025-04-25</th>\n",
       "      <td>0.000000</td>\n",
       "      <td>0.000000</td>\n",
       "      <td>0.0</td>\n",
       "      <td>53.500583</td>\n",
       "      <td>0.0</td>\n",
       "    </tr>\n",
       "    <tr>\n",
       "      <th>2025-04-28</th>\n",
       "      <td>45.252211</td>\n",
       "      <td>51.957447</td>\n",
       "      <td>0.0</td>\n",
       "      <td>56.175612</td>\n",
       "      <td>0.0</td>\n",
       "    </tr>\n",
       "  </tbody>\n",
       "</table>\n",
       "<p>4996 rows × 5 columns</p>\n",
       "</div>"
      ],
      "text/plain": [
       "                 2891       2881  2882       2303  2412\n",
       "datetime                                               \n",
       "2005-01-03        NaN        NaN   NaN        NaN   NaN\n",
       "2005-01-04        NaN        NaN   NaN        NaN   NaN\n",
       "2005-01-05        NaN        NaN   NaN        NaN   NaN\n",
       "2005-01-06        NaN        NaN   NaN        NaN   NaN\n",
       "2005-01-07        NaN        NaN   NaN        NaN   NaN\n",
       "...               ...        ...   ...        ...   ...\n",
       "2025-04-22   0.000000   0.000000   0.0  53.500583   0.0\n",
       "2025-04-23   0.000000   0.000000   0.0  53.500583   0.0\n",
       "2025-04-24   0.000000   0.000000   0.0  53.500583   0.0\n",
       "2025-04-25   0.000000   0.000000   0.0  53.500583   0.0\n",
       "2025-04-28  45.252211  51.957447   0.0  56.175612   0.0\n",
       "\n",
       "[4996 rows x 5 columns]"
      ]
     },
     "execution_count": 63,
     "metadata": {},
     "output_type": "execute_result"
    }
   ],
   "source": [
    "news_factor"
   ]
  },
  {
   "cell_type": "code",
   "execution_count": null,
   "id": "bf49d3a2",
   "metadata": {},
   "outputs": [],
   "source": []
  }
 ],
 "metadata": {
  "colab": {
   "collapsed_sections": [
    "_knUIIa96IAl",
    "HmQJ2mTddB6Q",
    "EQMLNRsdyhyA",
    "SaFdUYcu3KDk",
    "FRTAoiMO05Hk",
    "M9dzxKt1BYTK",
    "L5QisJZb6AEt",
    "4nwBQWm8kQ9v",
    "nbIInUEsPX_X"
   ],
   "provenance": []
  },
  "kernelspec": {
   "display_name": "Python 3",
   "language": "python",
   "name": "python3"
  },
  "language_info": {
   "codemirror_mode": {
    "name": "ipython",
    "version": 3
   },
   "file_extension": ".py",
   "mimetype": "text/x-python",
   "name": "python",
   "nbconvert_exporter": "python",
   "pygments_lexer": "ipython3",
   "version": "3.10.0"
  }
 },
 "nbformat": 4,
 "nbformat_minor": 5
}
